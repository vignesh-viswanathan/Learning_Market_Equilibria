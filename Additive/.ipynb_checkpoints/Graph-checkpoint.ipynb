{
 "cells": [
  {
   "cell_type": "code",
   "execution_count": 1,
   "metadata": {
    "collapsed": true
   },
   "outputs": [],
   "source": [
    "import numpy as np\n",
    "import matplotlib.pyplot as plt\n",
    "import matplotlib\n",
    "matplotlib.rcParams['pdf.fonttype'] = 42\n",
    "matplotlib.rcParams['ps.fonttype'] = 42\n",
    "\n",
    "fontdef = {'family' : 'normal',\n",
    "        'weight' : 'normal',\n",
    "        'size'   : 12}\n",
    "\n",
    "font = {'family' : 'normal',\n",
    "        'weight' : 'bold',\n",
    "        'size'   : 14}\n",
    "\n",
    "\n",
    "matplotlib.rc('font', **fontdef)"
   ]
  },
  {
   "cell_type": "code",
   "execution_count": 2,
   "metadata": {},
   "outputs": [
    {
     "name": "stderr",
     "output_type": "stream",
     "text": [
      "/Users/vigneshviswanathan/anaconda3/lib/python3.6/site-packages/matplotlib/font_manager.py:1316: UserWarning: findfont: Font family ['normal'] not found. Falling back to DejaVu Sans\n",
      "  (prop.get_family(), self.defaultFamily[fontext]))\n"
     ]
    }
   ],
   "source": [
    "cases = [1, 2, 3]\n",
    "for case in cases:\n",
    "    f = open(\"case\"+str(case)+\"_out.txt\", \"r\")\n",
    "    MAX_ITER = 100\n",
    "    lines = f.readlines()\n",
    "    dcNum = 6\n",
    "    dcName = [\"Constant Sample Size 1\", \"Constant Sample Size 3\", \"Constant Sample Size 5\" , \"Constant Sample Size 7\", \"Constant Sample Size 10\", \"Uniform Product Distribution\"]\n",
    "    samplesize = [5, 10, 20, 40, 80, 160, 320, 640, 1280, 2560, 5120]\n",
    "    opt = float(lines[1].split()[-1])\n",
    "    opteq = float(lines[3].split()[-1])\n",
    "    util_direct = []\n",
    "    util_direct_error = [] \n",
    "    util_indirect = []\n",
    "    util_indirect_error = []\n",
    "    for dc in range(dcNum):\n",
    "        util_direct.append([float(item) for item in lines[28*dc + 6].split()[2:]])\n",
    "        util_direct_error.append([np.sqrt(float(item)/MAX_ITER) for item in lines[28*dc + 7].split()[2:]])\n",
    "        util_indirect.append([float(item) for item in lines[28*dc + 17].split()[2:]])\n",
    "        util_indirect_error.append([np.sqrt(float(item)/MAX_ITER) for item in lines[28*dc + 18].split()[2:]])\n",
    "\n",
    "\n",
    "    util_direct = np.array(util_direct)\n",
    "    util_indirect = np.array(util_indirect)\n",
    "    util_direct_error = np.array(util_direct_error)\n",
    "    util_indirect_error = np.array(util_indirect_error)\n",
    "    for dc in range(dcNum):\n",
    "        plt.clf()\n",
    "        plt.semilogx(samplesize, [opteq]*len(samplesize), color = 'black', linestyle = 'dashed', label = \"OPT\" )\n",
    "\n",
    "        plt.semilogx(samplesize, util_direct[dc, :], 'r-o', color = 'red', label = 'DLE')\n",
    "        plt.fill_between(samplesize, util_direct[dc, :] - util_direct_error[dc, :], util_direct[dc, :] + util_direct_error[dc, :], color = 'salmon')\n",
    "\n",
    "        plt.semilogx(samplesize, util_indirect[dc, :], 'b-x', color = 'blue', label = 'ILO')\n",
    "        plt.fill_between(samplesize, util_indirect[dc, :] - util_indirect_error[dc, :], util_indirect[dc, :] + util_indirect_error[dc, :], color = 'cyan')\n",
    "\n",
    "        plt.title(\"Distribution: \"+str(dcName[dc]))\n",
    "        plt.xlabel(\"Number of Samples\")\n",
    "        plt.ylabel(\"Total Welfare\")\n",
    "        plt.legend()\n",
    "        plt.savefig(\"Graphs/utilcase\"+str(case)+\"dc\"+str(dc)+\".pdf\")\n",
    "    \n",
    "    \n",
    "    "
   ]
  },
  {
   "cell_type": "code",
   "execution_count": 3,
   "metadata": {},
   "outputs": [
    {
     "name": "stderr",
     "output_type": "stream",
     "text": [
      "/Users/vigneshviswanathan/anaconda3/lib/python3.6/site-packages/matplotlib/font_manager.py:1316: UserWarning: findfont: Font family ['normal'] not found. Falling back to DejaVu Sans\n",
      "  (prop.get_family(), self.defaultFamily[fontext]))\n"
     ]
    }
   ],
   "source": [
    "cases = [1, 2, 3]\n",
    "for case in cases:\n",
    "    f = open(\"case\"+str(case)+\"_out.txt\", \"r\")\n",
    "    MAX_ITER = 100\n",
    "    lines = f.readlines()\n",
    "    dcNum = 6\n",
    "    dcName = [\"Constant Sample Size 1\", \"Constant Sample Size 3\", \"Constant Sample Size 5\" , \"Constant Sample Size 7\", \"Constant Sample Size 10\", \"Uniform Product Distribution\"]\n",
    "    samplesize = [5, 10, 20, 40, 80, 160, 320, 640, 1280, 2560, 5120]\n",
    "#     opt = float(lines[1].split()[-1])\n",
    "#     opteq = float(lines[3].split()[-1])\n",
    "    util_direct = []\n",
    "    util_direct_error = [] \n",
    "    util_indirect = []\n",
    "    util_indirect_error = []\n",
    "    for dc in range(dcNum):\n",
    "        util_direct.append([float(item) for item in lines[28*dc + 10].split()[2:]])\n",
    "        util_direct_error.append([np.sqrt(float(item)/MAX_ITER) for item in lines[28*dc + 11].split()[2:]])\n",
    "        util_indirect.append([float(item) for item in lines[28*dc + 21].split()[2:]])\n",
    "        util_indirect_error.append([np.sqrt(float(item)/MAX_ITER) for item in lines[28*dc + 22].split()[2:]])\n",
    "\n",
    "\n",
    "    util_direct = np.array(util_direct)\n",
    "    util_indirect = np.array(util_indirect)\n",
    "    util_direct_error = np.array(util_direct_error)\n",
    "    util_indirect_error = np.array(util_indirect_error)\n",
    "    for dc in range(dcNum):\n",
    "        plt.clf()\n",
    "#         plt.semilogx(samplesize, [opteq]*len(samplesize), color = 'black', linestyle = 'dashed', label = \"OPT\" )\n",
    "\n",
    "        plt.semilogx(samplesize, util_direct[dc, :], 'r-x',label = 'DLE')\n",
    "        plt.fill_between(samplesize, util_direct[dc, :] - util_direct_error[dc, :], util_direct[dc, :] + util_direct_error[dc, :], color = 'salmon')\n",
    "\n",
    "        plt.semilogx(samplesize, util_indirect[dc, :], 'b-o', label = 'ILO')\n",
    "        plt.fill_between(samplesize, util_indirect[dc, :] - util_indirect_error[dc, :], util_indirect[dc, :] + util_indirect_error[dc, :], color = 'cyan')\n",
    "\n",
    "        plt.title(\"Distribution: \"+str(dcName[dc]))\n",
    "        plt.xlabel(\"Number of Samples\")\n",
    "        plt.ylabel(\"Average Loss\")\n",
    "        plt.legend()\n",
    "        plt.savefig(\"Graphs/losscase\"+str(case)+\"dc\"+str(dc)+\".pdf\")"
   ]
  },
  {
   "cell_type": "code",
   "execution_count": null,
   "metadata": {
    "collapsed": true
   },
   "outputs": [],
   "source": []
  }
 ],
 "metadata": {
  "kernelspec": {
   "display_name": "Python 3",
   "language": "python",
   "name": "python3"
  },
  "language_info": {
   "codemirror_mode": {
    "name": "ipython",
    "version": 3
   },
   "file_extension": ".py",
   "mimetype": "text/x-python",
   "name": "python",
   "nbconvert_exporter": "python",
   "pygments_lexer": "ipython3",
   "version": "3.6.3"
  }
 },
 "nbformat": 4,
 "nbformat_minor": 2
}
