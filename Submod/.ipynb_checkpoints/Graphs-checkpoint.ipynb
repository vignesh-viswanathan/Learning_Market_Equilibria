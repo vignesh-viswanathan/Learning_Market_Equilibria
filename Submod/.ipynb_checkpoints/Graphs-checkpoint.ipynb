{
 "cells": [
  {
   "cell_type": "code",
   "execution_count": 1,
   "metadata": {
    "collapsed": true
   },
   "outputs": [],
   "source": [
    "import numpy as np\n",
    "import matplotlib.pyplot as plt\n",
    "import matplotlib\n",
    "matplotlib.rcParams['pdf.fonttype'] = 42\n",
    "matplotlib.rcParams['ps.fonttype'] = 42\n",
    "\n",
    "fontdef = {'family' : 'normal',\n",
    "        'weight' : 'normal',\n",
    "        'size'   : 12}\n",
    "\n",
    "font = {'family' : 'normal',\n",
    "        'weight' : 'bold',\n",
    "        'size'   : 14}\n",
    "\n",
    "\n",
    "matplotlib.rc('font', **fontdef)"
   ]
  },
  {
   "cell_type": "code",
   "execution_count": 3,
   "metadata": {},
   "outputs": [
    {
     "name": "stderr",
     "output_type": "stream",
     "text": [
      "/Users/vigneshviswanathan/anaconda3/lib/python3.6/site-packages/matplotlib/font_manager.py:1316: UserWarning: findfont: Font family ['normal'] not found. Falling back to DejaVu Sans\n",
      "  (prop.get_family(), self.defaultFamily[fontext]))\n"
     ]
    }
   ],
   "source": [
    "cases = [1, 2, 3]\n",
    "kdasharr = [3, 5, 10]\n",
    "color_array1 = ['red', 'brown', 'seagreen', 'blue', 'purple', 'orange']\n",
    "color_array2 = ['salmon','peachpuff', 'springgreen', 'aqua', 'violet', 'moccasin']\n",
    "for case in cases:\n",
    "    for kdash in kdasharr:\n",
    "        f = open(\"parr\"+str(case)+\"_\"+str(kdash)+\"out.txt\", \"r\")\n",
    "        MAX_ITER = 100\n",
    "        lines = f.readlines()\n",
    "        dcNum = 6\n",
    "        dcName = [\"s=1\", \"s=3\", \"s=5\" , \"s=7\", \"s=10\", \"UnifPD\"]\n",
    "        samplesize = [5, 10, 20, 40, 80, 160, 320, 640, 1280, 2560, 5120]\n",
    "        opteq = float(lines[1].split()[-1])\n",
    "        opt_err = np.sqrt(float(lines[2].split()[-1])/MAX_ITER)\n",
    "        util_direct = []\n",
    "        util_direct_error = [] \n",
    "        burn_direct = []\n",
    "        burn_direct_error = []\n",
    "        for dc in range(dcNum):\n",
    "            util_direct.append([float(item) for item in lines[14*dc + 3].split()[2:]])\n",
    "            util_direct_error.append([np.sqrt(float(item)/MAX_ITER) for item in lines[14*dc + 4].split()[2:]])\n",
    "            burn_direct.append([float(item) for item in lines[14*dc + 11].split()[2:]])\n",
    "            burn_direct_error.append([np.sqrt(float(item)/MAX_ITER) for item in lines[14*dc + 12].split()[2:]])\n",
    "\n",
    "\n",
    "        util_direct = np.array(util_direct)\n",
    "        burn_direct = np.array(burn_direct)\n",
    "        util_direct_error = np.array(util_direct_error)\n",
    "        burn_direct_error = np.array(burn_direct_error)\n",
    "        plt.clf()\n",
    "        plt.semilogx(samplesize, [opteq]*len(samplesize), color = 'black', linestyle = 'dashed', label = \"OPT\" )\n",
    "        plt.fill_between(samplesize, [opteq - opt_err]*len(samplesize), [opteq+opt_err]*len(samplesize), color = 'grey')\n",
    "        for dc in range(dcNum):\n",
    "            plt.semilogx(samplesize, util_direct[dc, :], \"-o\", color = color_array1[dc], label = dcName[dc])\n",
    "            plt.fill_between(samplesize, util_direct[dc, :] - util_direct_error[dc, :], util_direct[dc, :] + util_direct_error[dc, :], color = color_array2[dc])\n",
    "        plt.title(\"Threshold = \"+str(kdash))\n",
    "        plt.xlabel(\"Number of Samples\")\n",
    "        plt.ylabel(\"Total Welfare\")\n",
    "        plt.axis(xmin = 5, ymin = 0)\n",
    "        plt.legend()\n",
    "        plt.savefig(\"Graphs/utilcase\"+str(case)+\"cutoff\"+str(kdash)+\".pdf\", bbox_inches = 'tight')\n",
    "\n",
    "        plt.clf()\n",
    "        for dc in range(dcNum):\n",
    "            plt.semilogx(samplesize, burn_direct[dc, :], \"-o\", color = color_array1[dc], label = dcName[dc])\n",
    "            plt.fill_between(samplesize, burn_direct[dc, :] - burn_direct_error[dc, :], burn_direct[dc, :] + burn_direct_error[dc, :], color = color_array2[dc])\n",
    "\n",
    "        plt.title(\"Threshold = \"+str(kdash))\n",
    "        plt.xlabel(\"Number of Samples\")\n",
    "        plt.ylabel(\"Number of Goods Burnt\")\n",
    "        plt.legend()\n",
    "        plt.savefig(\"Graphs/burncase\"+str(case)+\"cutoff\"+str(kdash)+\".pdf\", bbox_inches = 'tight')\n"
   ]
  },
  {
   "cell_type": "code",
   "execution_count": 12,
   "metadata": {
    "collapsed": true
   },
   "outputs": [],
   "source": []
  },
  {
   "cell_type": "code",
   "execution_count": 14,
   "metadata": {
    "collapsed": true
   },
   "outputs": [],
   "source": []
  },
  {
   "cell_type": "code",
   "execution_count": null,
   "metadata": {
    "collapsed": true
   },
   "outputs": [],
   "source": []
  }
 ],
 "metadata": {
  "kernelspec": {
   "display_name": "Python 3",
   "language": "python",
   "name": "python3"
  },
  "language_info": {
   "codemirror_mode": {
    "name": "ipython",
    "version": 3
   },
   "file_extension": ".py",
   "mimetype": "text/x-python",
   "name": "python",
   "nbconvert_exporter": "python",
   "pygments_lexer": "ipython3",
   "version": "3.6.3"
  }
 },
 "nbformat": 4,
 "nbformat_minor": 2
}
